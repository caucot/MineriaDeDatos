{
 "cells": [
  {
   "cell_type": "markdown",
   "id": "f6a3ac04",
   "metadata": {},
   "source": [
    "# Identificación de Fases en KDD y CRISP-DM\n",
    "\n",
    "**Proceso en KDD**\n",
    "\n",
    "4. **Mineria de datos:** Considero que la fase mas importante es la minería de datos, en esta etapa se pueden encontrar patrones y descubrir conocimientos útiles. En el caso de análisis de cliente que podrían tornarse en morosos, esta etapa permite aplicar algoritmo para identificar patrones ocultos, como las variables “Consumo de GB”, “Reclamos” y “Estado_Cuenta”. A partir de estos datos se pueden descubrir futuros clientes morosos.\n",
    "\n",
    "**Proceso de CRISP-DM**\n",
    "\n",
    "3. **Preparación de los datos:** Siguiendo con el mismo ejemplo, considero que la fase mas relevante es la preparación de los datos, ya que los próximos análisis estadísticos u modelos, van a alimentarse de este conjunto de datos. En esta etapa, se realiza la limpieza y transformación de variables categóricas en datos numéricos utilizando librerías como LabelEncoder o get_dummies.\n",
    "Esta etapa permite que los análisis y modelos posteriores trabajan con datos precisos y coherentes, evitando posibles sesgos, y asegurando una información de calidad.\n",
    "\n"
   ]
  },
  {
   "cell_type": "markdown",
   "id": "dc08ee57",
   "metadata": {},
   "source": [
    "# Librerias"
   ]
  },
  {
   "cell_type": "code",
   "execution_count": 1,
   "id": "96a55ad3",
   "metadata": {},
   "outputs": [],
   "source": [
    "#Importacion de librerias\n",
    "import pandas as pd\n",
    "import seaborn as sns\n",
    "import matplotlib.pyplot as plt"
   ]
  },
  {
   "cell_type": "markdown",
   "id": "6eeb63dd",
   "metadata": {},
   "source": [
    "# Dataset"
   ]
  },
  {
   "cell_type": "code",
   "execution_count": 2,
   "metadata": {},
   "outputs": [],
   "source": [
    "# Crear DataFrame con los datos del ejercicio\n",
    "datos = {\n",
    "\"Cliente\": [1, 2, 3, 4, 5],\n",
    "\"Edad\": [25, 40, 32, 22, 35],\n",
    "\"Plan\": [\"Básico\", \"Premium\", \"Estándar\", \"Básico\", \"Premium\"],\n",
    "\"Consumo_GB\": [5, 50, 10, 7, 45],\n",
    "\"Reclamos\": [1, 0, 2, 3, 0],\n",
    "\"Estado_Cuenta\": [\"Pagado\", \"Pagado\", \"Moroso\", \"Moroso\", \"Pagado\"]\n",
    "} \n",
    "\n",
    "df = pd.DataFrame(datos)\n"
   ]
  },
  {
   "cell_type": "code",
   "execution_count": 3,
   "id": "df69e7a2",
   "metadata": {},
   "outputs": [
    {
     "data": {
      "text/html": [
       "<div>\n",
       "<style scoped>\n",
       "    .dataframe tbody tr th:only-of-type {\n",
       "        vertical-align: middle;\n",
       "    }\n",
       "\n",
       "    .dataframe tbody tr th {\n",
       "        vertical-align: top;\n",
       "    }\n",
       "\n",
       "    .dataframe thead th {\n",
       "        text-align: right;\n",
       "    }\n",
       "</style>\n",
       "<table border=\"1\" class=\"dataframe\">\n",
       "  <thead>\n",
       "    <tr style=\"text-align: right;\">\n",
       "      <th></th>\n",
       "      <th>Cliente</th>\n",
       "      <th>Edad</th>\n",
       "      <th>Plan</th>\n",
       "      <th>Consumo_GB</th>\n",
       "      <th>Reclamos</th>\n",
       "      <th>Estado_Cuenta</th>\n",
       "    </tr>\n",
       "  </thead>\n",
       "  <tbody>\n",
       "    <tr>\n",
       "      <th>0</th>\n",
       "      <td>1</td>\n",
       "      <td>25</td>\n",
       "      <td>Básico</td>\n",
       "      <td>5</td>\n",
       "      <td>1</td>\n",
       "      <td>Pagado</td>\n",
       "    </tr>\n",
       "    <tr>\n",
       "      <th>1</th>\n",
       "      <td>2</td>\n",
       "      <td>40</td>\n",
       "      <td>Premium</td>\n",
       "      <td>50</td>\n",
       "      <td>0</td>\n",
       "      <td>Pagado</td>\n",
       "    </tr>\n",
       "    <tr>\n",
       "      <th>2</th>\n",
       "      <td>3</td>\n",
       "      <td>32</td>\n",
       "      <td>Estándar</td>\n",
       "      <td>10</td>\n",
       "      <td>2</td>\n",
       "      <td>Moroso</td>\n",
       "    </tr>\n",
       "    <tr>\n",
       "      <th>3</th>\n",
       "      <td>4</td>\n",
       "      <td>22</td>\n",
       "      <td>Básico</td>\n",
       "      <td>7</td>\n",
       "      <td>3</td>\n",
       "      <td>Moroso</td>\n",
       "    </tr>\n",
       "    <tr>\n",
       "      <th>4</th>\n",
       "      <td>5</td>\n",
       "      <td>35</td>\n",
       "      <td>Premium</td>\n",
       "      <td>45</td>\n",
       "      <td>0</td>\n",
       "      <td>Pagado</td>\n",
       "    </tr>\n",
       "  </tbody>\n",
       "</table>\n",
       "</div>"
      ],
      "text/plain": [
       "   Cliente  Edad      Plan  Consumo_GB  Reclamos Estado_Cuenta\n",
       "0        1    25    Básico           5         1        Pagado\n",
       "1        2    40   Premium          50         0        Pagado\n",
       "2        3    32  Estándar          10         2        Moroso\n",
       "3        4    22    Básico           7         3        Moroso\n",
       "4        5    35   Premium          45         0        Pagado"
      ]
     },
     "execution_count": 3,
     "metadata": {},
     "output_type": "execute_result"
    }
   ],
   "source": [
    "#Visualizacion del dataset\n",
    "df.head()"
   ]
  },
  {
   "cell_type": "markdown",
   "id": "fc187fa4",
   "metadata": {},
   "source": [
    "### Dimension del dataset"
   ]
  },
  {
   "cell_type": "code",
   "execution_count": 4,
   "id": "ab336f1c",
   "metadata": {},
   "outputs": [
    {
     "data": {
      "text/plain": [
       "(5, 6)"
      ]
     },
     "execution_count": 4,
     "metadata": {},
     "output_type": "execute_result"
    }
   ],
   "source": [
    "# Utilizamos el método .shape para obtener las dimensiones del data frame: cantidad de filas (5) y columnas (6)\n",
    "df.shape"
   ]
  },
  {
   "cell_type": "markdown",
   "id": "881e27b1",
   "metadata": {},
   "source": [
    "# Variables"
   ]
  },
  {
   "cell_type": "markdown",
   "id": "454daab6",
   "metadata": {},
   "source": [
    "### Descripción general del dataset\n",
    "El dataset brinda información sobre un conjunto de clientes de una proveedora de internet. Contiene variables relacionadas con datos personales del cliente, el plan de internet contratado, el servicio al consumidor (medido por reclamos) y el estado de cuenta."
   ]
  },
  {
   "cell_type": "markdown",
   "id": "48788b02",
   "metadata": {},
   "source": [
    "### Nombre de las variables"
   ]
  },
  {
   "cell_type": "code",
   "execution_count": 5,
   "id": "2a2d4b61",
   "metadata": {},
   "outputs": [
    {
     "data": {
      "text/plain": [
       "Index(['Cliente', 'Edad', 'Plan', 'Consumo_GB', 'Reclamos', 'Estado_Cuenta'], dtype='object')"
      ]
     },
     "execution_count": 5,
     "metadata": {},
     "output_type": "execute_result"
    }
   ],
   "source": [
    "#Obtengo nombre de las columnas\n",
    "df.columns"
   ]
  },
  {
   "cell_type": "markdown",
   "id": "4c843cb2",
   "metadata": {},
   "source": [
    "### Descripcion de las variables\n",
    "- Cliente: Clave o ID que identifica al cliente. \n",
    "- Edad: Edad del cliente actual. Variable cuantitativa discreta                                                                     \n",
    "- Plan: Tipo de plan de internet contrado por el cliente. Variable categorica con 3 niveles: 'Basico','Estandar' y 'Premium'\n",
    "- Consumo_GB: Cantidad de gigabytes que consume el internet. Variable cuantitativa discreta.\n",
    "- Reclamos: Cantidad de reclamos del cliente sobre el servicio. Variable cuantitativa discrea.\n",
    "- Estado_Cuenta: Estado actual del pago del servicio. Variable categorica con 2 niveles: 'Activo' y 'Moroso'"
   ]
  },
  {
   "cell_type": "markdown",
   "id": "bd07fc59",
   "metadata": {},
   "source": [
    "### Tipo de datos"
   ]
  },
  {
   "cell_type": "code",
   "execution_count": 6,
   "id": "271d909b",
   "metadata": {},
   "outputs": [
    {
     "data": {
      "text/plain": [
       "Cliente           int64\n",
       "Edad              int64\n",
       "Plan             object\n",
       "Consumo_GB        int64\n",
       "Reclamos          int64\n",
       "Estado_Cuenta    object\n",
       "dtype: object"
      ]
     },
     "execution_count": 6,
     "metadata": {},
     "output_type": "execute_result"
    }
   ],
   "source": [
    "# Exploramos los tipos de datos de cada columna\n",
    "df.dtypes"
   ]
  },
  {
   "cell_type": "code",
   "execution_count": 7,
   "id": "df0c8116",
   "metadata": {},
   "outputs": [
    {
     "name": "stdout",
     "output_type": "stream",
     "text": [
      "<class 'pandas.core.frame.DataFrame'>\n",
      "RangeIndex: 5 entries, 0 to 4\n",
      "Data columns (total 6 columns):\n",
      " #   Column         Non-Null Count  Dtype \n",
      "---  ------         --------------  ----- \n",
      " 0   Cliente        5 non-null      int64 \n",
      " 1   Edad           5 non-null      int64 \n",
      " 2   Plan           5 non-null      object\n",
      " 3   Consumo_GB     5 non-null      int64 \n",
      " 4   Reclamos       5 non-null      int64 \n",
      " 5   Estado_Cuenta  5 non-null      object\n",
      "dtypes: int64(4), object(2)\n",
      "memory usage: 372.0+ bytes\n",
      "None\n"
     ]
    }
   ],
   "source": [
    "# Inspeccionar los datos\n",
    "print(df.info())"
   ]
  },
  {
   "cell_type": "markdown",
   "id": "747b8861",
   "metadata": {},
   "source": [
    "# 2. Preprocesamiento de Datos\n",
    "## Valores Inconsistentes\n",
    "Afortunadamente, el dataset no muestra registros con valores nulos o datos duplicados, por ende no hace falta una limpieza o una transformacion para completar los registros vacios."
   ]
  },
  {
   "cell_type": "markdown",
   "id": "85c34ad3",
   "metadata": {},
   "source": [
    "### Cantidad de valores nulos por columna"
   ]
  },
  {
   "cell_type": "code",
   "execution_count": 8,
   "id": "6074dbe3",
   "metadata": {},
   "outputs": [
    {
     "data": {
      "text/plain": [
       "Cliente          0\n",
       "Edad             0\n",
       "Plan             0\n",
       "Consumo_GB       0\n",
       "Reclamos         0\n",
       "Estado_Cuenta    0\n",
       "dtype: int64"
      ]
     },
     "execution_count": 8,
     "metadata": {},
     "output_type": "execute_result"
    }
   ],
   "source": [
    "df.isnull().sum()"
   ]
  },
  {
   "cell_type": "markdown",
   "id": "d03b280d",
   "metadata": {},
   "source": [
    "### Cantidad de datos duplicados"
   ]
  },
  {
   "cell_type": "code",
   "execution_count": 9,
   "id": "96656584",
   "metadata": {},
   "outputs": [
    {
     "data": {
      "text/plain": [
       "0"
      ]
     },
     "execution_count": 9,
     "metadata": {},
     "output_type": "execute_result"
    }
   ],
   "source": [
    "df.duplicated().sum()"
   ]
  },
  {
   "cell_type": "markdown",
   "id": "05ae5a03",
   "metadata": {},
   "source": [
    "\n",
    "\n",
    "## Transformacion de variables categoricas\n",
    "Los modelos de aprendizaje requieren datos numericos, sin embargo, el dataset actual cuenta con variables categoricas y es necesario una transformacion. En la transformacion del dataset se optaron por las librerias pandas y sklearn, los metodos a utilizar se aplican en base a la cantidad de variables distintas que guarde la columna en cuestion, en caso de 2 valores se recurre al metodo get_dummie, caso contrario se utiliza LabelEncoder."
   ]
  },
  {
   "cell_type": "markdown",
   "id": "57ee73c8",
   "metadata": {},
   "source": [
    "### Variables categoricas binarias"
   ]
  },
  {
   "cell_type": "code",
   "execution_count": 10,
   "id": "0380c141",
   "metadata": {},
   "outputs": [
    {
     "data": {
      "text/html": [
       "<div>\n",
       "<style scoped>\n",
       "    .dataframe tbody tr th:only-of-type {\n",
       "        vertical-align: middle;\n",
       "    }\n",
       "\n",
       "    .dataframe tbody tr th {\n",
       "        vertical-align: top;\n",
       "    }\n",
       "\n",
       "    .dataframe thead th {\n",
       "        text-align: right;\n",
       "    }\n",
       "</style>\n",
       "<table border=\"1\" class=\"dataframe\">\n",
       "  <thead>\n",
       "    <tr style=\"text-align: right;\">\n",
       "      <th></th>\n",
       "      <th>Cliente</th>\n",
       "      <th>Edad</th>\n",
       "      <th>Plan</th>\n",
       "      <th>Consumo_GB</th>\n",
       "      <th>Reclamos</th>\n",
       "      <th>Estado_Cuenta_Moroso</th>\n",
       "      <th>Estado_Cuenta_Pagado</th>\n",
       "    </tr>\n",
       "  </thead>\n",
       "  <tbody>\n",
       "    <tr>\n",
       "      <th>0</th>\n",
       "      <td>1</td>\n",
       "      <td>25</td>\n",
       "      <td>Básico</td>\n",
       "      <td>5</td>\n",
       "      <td>1</td>\n",
       "      <td>0</td>\n",
       "      <td>1</td>\n",
       "    </tr>\n",
       "    <tr>\n",
       "      <th>1</th>\n",
       "      <td>2</td>\n",
       "      <td>40</td>\n",
       "      <td>Premium</td>\n",
       "      <td>50</td>\n",
       "      <td>0</td>\n",
       "      <td>0</td>\n",
       "      <td>1</td>\n",
       "    </tr>\n",
       "    <tr>\n",
       "      <th>2</th>\n",
       "      <td>3</td>\n",
       "      <td>32</td>\n",
       "      <td>Estándar</td>\n",
       "      <td>10</td>\n",
       "      <td>2</td>\n",
       "      <td>1</td>\n",
       "      <td>0</td>\n",
       "    </tr>\n",
       "    <tr>\n",
       "      <th>3</th>\n",
       "      <td>4</td>\n",
       "      <td>22</td>\n",
       "      <td>Básico</td>\n",
       "      <td>7</td>\n",
       "      <td>3</td>\n",
       "      <td>1</td>\n",
       "      <td>0</td>\n",
       "    </tr>\n",
       "    <tr>\n",
       "      <th>4</th>\n",
       "      <td>5</td>\n",
       "      <td>35</td>\n",
       "      <td>Premium</td>\n",
       "      <td>45</td>\n",
       "      <td>0</td>\n",
       "      <td>0</td>\n",
       "      <td>1</td>\n",
       "    </tr>\n",
       "  </tbody>\n",
       "</table>\n",
       "</div>"
      ],
      "text/plain": [
       "   Cliente  Edad      Plan  Consumo_GB  Reclamos  Estado_Cuenta_Moroso  \\\n",
       "0        1    25    Básico           5         1                     0   \n",
       "1        2    40   Premium          50         0                     0   \n",
       "2        3    32  Estándar          10         2                     1   \n",
       "3        4    22    Básico           7         3                     1   \n",
       "4        5    35   Premium          45         0                     0   \n",
       "\n",
       "   Estado_Cuenta_Pagado  \n",
       "0                     1  \n",
       "1                     1  \n",
       "2                     0  \n",
       "3                     0  \n",
       "4                     1  "
      ]
     },
     "execution_count": 10,
     "metadata": {},
     "output_type": "execute_result"
    }
   ],
   "source": [
    "#Se utiliza la funcion get_dummies de pandas en columnas con dos valores\n",
    "df2 = pd.get_dummies(df, columns=[\"Estado_Cuenta\"]) #Se utiliza la libreria pandas (pd) y se especifica la columna\n",
    "\n",
    "for columna in df2.columns:\n",
    "    if df2[columna].dtype == 'bool':\n",
    "        df2[columna] = df2[columna].astype(int) #Se reemplzan los valores Falses y True por datos numericos (0 y 1)\n",
    "        \n",
    "df2"
   ]
  },
  {
   "cell_type": "markdown",
   "id": "ba9e620e",
   "metadata": {},
   "source": [
    "### Variables con más de dos categorías"
   ]
  },
  {
   "cell_type": "code",
   "execution_count": 12,
   "id": "4449d295",
   "metadata": {},
   "outputs": [],
   "source": [
    "from sklearn.preprocessing import LabelEncoder #Importamos una funcion de la libreria sklearn.preprocessing\n",
    "# El orden numericodepende del orden alfabetico, es una buena practica conocer el alfabetico y anotar en alguna parte\n",
    "# la referencia de cada numero."
   ]
  },
  {
   "cell_type": "code",
   "execution_count": 13,
   "id": "f2f3794c",
   "metadata": {},
   "outputs": [],
   "source": [
    "encoder= LabelEncoder()"
   ]
  },
  {
   "cell_type": "code",
   "execution_count": 14,
   "id": "0710a3f6",
   "metadata": {},
   "outputs": [
    {
     "data": {
      "text/html": [
       "<div>\n",
       "<style scoped>\n",
       "    .dataframe tbody tr th:only-of-type {\n",
       "        vertical-align: middle;\n",
       "    }\n",
       "\n",
       "    .dataframe tbody tr th {\n",
       "        vertical-align: top;\n",
       "    }\n",
       "\n",
       "    .dataframe thead th {\n",
       "        text-align: right;\n",
       "    }\n",
       "</style>\n",
       "<table border=\"1\" class=\"dataframe\">\n",
       "  <thead>\n",
       "    <tr style=\"text-align: right;\">\n",
       "      <th></th>\n",
       "      <th>Cliente</th>\n",
       "      <th>Edad</th>\n",
       "      <th>Plan</th>\n",
       "      <th>Consumo_GB</th>\n",
       "      <th>Reclamos</th>\n",
       "      <th>Estado_Cuenta_Moroso</th>\n",
       "      <th>Estado_Cuenta_Pagado</th>\n",
       "      <th>Plan_codificado</th>\n",
       "    </tr>\n",
       "  </thead>\n",
       "  <tbody>\n",
       "    <tr>\n",
       "      <th>0</th>\n",
       "      <td>1</td>\n",
       "      <td>25</td>\n",
       "      <td>Básico</td>\n",
       "      <td>5</td>\n",
       "      <td>1</td>\n",
       "      <td>0</td>\n",
       "      <td>1</td>\n",
       "      <td>0</td>\n",
       "    </tr>\n",
       "    <tr>\n",
       "      <th>1</th>\n",
       "      <td>2</td>\n",
       "      <td>40</td>\n",
       "      <td>Premium</td>\n",
       "      <td>50</td>\n",
       "      <td>0</td>\n",
       "      <td>0</td>\n",
       "      <td>1</td>\n",
       "      <td>2</td>\n",
       "    </tr>\n",
       "    <tr>\n",
       "      <th>2</th>\n",
       "      <td>3</td>\n",
       "      <td>32</td>\n",
       "      <td>Estándar</td>\n",
       "      <td>10</td>\n",
       "      <td>2</td>\n",
       "      <td>1</td>\n",
       "      <td>0</td>\n",
       "      <td>1</td>\n",
       "    </tr>\n",
       "    <tr>\n",
       "      <th>3</th>\n",
       "      <td>4</td>\n",
       "      <td>22</td>\n",
       "      <td>Básico</td>\n",
       "      <td>7</td>\n",
       "      <td>3</td>\n",
       "      <td>1</td>\n",
       "      <td>0</td>\n",
       "      <td>0</td>\n",
       "    </tr>\n",
       "    <tr>\n",
       "      <th>4</th>\n",
       "      <td>5</td>\n",
       "      <td>35</td>\n",
       "      <td>Premium</td>\n",
       "      <td>45</td>\n",
       "      <td>0</td>\n",
       "      <td>0</td>\n",
       "      <td>1</td>\n",
       "      <td>2</td>\n",
       "    </tr>\n",
       "  </tbody>\n",
       "</table>\n",
       "</div>"
      ],
      "text/plain": [
       "   Cliente  Edad      Plan  Consumo_GB  Reclamos  Estado_Cuenta_Moroso  \\\n",
       "0        1    25    Básico           5         1                     0   \n",
       "1        2    40   Premium          50         0                     0   \n",
       "2        3    32  Estándar          10         2                     1   \n",
       "3        4    22    Básico           7         3                     1   \n",
       "4        5    35   Premium          45         0                     0   \n",
       "\n",
       "   Estado_Cuenta_Pagado  Plan_codificado  \n",
       "0                     1                0  \n",
       "1                     1                2  \n",
       "2                     0                1  \n",
       "3                     0                0  \n",
       "4                     1                2  "
      ]
     },
     "execution_count": 14,
     "metadata": {},
     "output_type": "execute_result"
    }
   ],
   "source": [
    "df2['Plan_codificado'] = encoder.fit_transform(df2['Plan']) #Se agrega una nueva columna Plan_codificado\n",
    "df2 #Visualizacion del dataset despues de la pretransformacion, aun permaneca la columna Plan"
   ]
  },
  {
   "cell_type": "markdown",
   "id": "657f87c9",
   "metadata": {},
   "source": [
    "# Analisis estadistico"
   ]
  },
  {
   "cell_type": "code",
   "execution_count": 15,
   "id": "45a4c7cc",
   "metadata": {},
   "outputs": [
    {
     "name": "stdout",
     "output_type": "stream",
     "text": [
      "        Cliente       Edad  Consumo_GB  Reclamos\n",
      "count  5.000000   5.000000    5.000000   5.00000\n",
      "mean   3.000000  30.800000   23.400000   1.20000\n",
      "std    1.581139   7.328028   22.142719   1.30384\n",
      "min    1.000000  22.000000    5.000000   0.00000\n",
      "25%    2.000000  25.000000    7.000000   0.00000\n",
      "50%    3.000000  32.000000   10.000000   1.00000\n",
      "75%    4.000000  35.000000   45.000000   2.00000\n",
      "max    5.000000  40.000000   50.000000   3.00000\n"
     ]
    }
   ],
   "source": [
    "print(df.describe())"
   ]
  },
  {
   "cell_type": "code",
   "execution_count": 28,
   "id": "63cab12b",
   "metadata": {},
   "outputs": [
    {
     "data": {
      "image/png": "[encoded data removed]",
      "text/plain": [
       "<Figure size 800x400 with 1 Axes>"
      ]
     },
     "metadata": {},
     "output_type": "display_data"
    }
   ],
   "source": [
    "# Ver distribución de consumo de datos\n",
    "plt.figure(figsize=(8, 4))\n",
    "sns.histplot(df[\"Consumo_GB\"], bins=5, kde=True)\n",
    "plt.title('Histograma del Consumo de GB por Cliente')\n",
    "plt.xlabel('Consumo GB')\n",
    "plt.ylabel('Cantidad de clientes')\n",
    "plt.show()"
   ]
  },
  {
   "cell_type": "code",
   "execution_count": 29,
   "id": "445413c7",
   "metadata": {},
   "outputs": [
    {
     "data": {
      "image/png": "[encoded data removed]",
      "text/plain": [
       "<Figure size 800x400 with 1 Axes>"
      ]
     },
     "metadata": {},
     "output_type": "display_data"
    }
   ],
   "source": [
    "plt.figure(figsize=(8, 4))\n",
    "sns.countplot(data=df, x='Estado_Cuenta')\n",
    "plt.title('Cantidad de Clientes por Estado de Cuenta')\n",
    "plt.xlabel('Estado de Cuenta')\n",
    "plt.ylabel('Cantidad de Clientes')\n",
    "plt.show()"
   ]
  },
  {
   "cell_type": "code",
   "execution_count": 27,
   "id": "aa8eac15",
   "metadata": {},
   "outputs": [
    {
     "data": {
      "image/png": "[encoded data removed]",
      "text/plain": [
       "<Figure size 800x400 with 1 Axes>"
      ]
     },
     "metadata": {},
     "output_type": "display_data"
    }
   ],
   "source": [
    "plt.figure(figsize=(8, 4))\n",
    "sns.boxplot(data=df, x='Estado_Cuenta', y='Reclamos')\n",
    "plt.title('Distribución de Reclamos por Estado de Cuenta')\n",
    "plt.xlabel('Estado de Cuenta')\n",
    "plt.ylabel('Reclamos')\n",
    "plt.show()"
   ]
  },
  {
   "cell_type": "code",
   "execution_count": 30,
   "id": "83e03929",
   "metadata": {},
   "outputs": [
    {
     "data": {
      "image/png": "[encoded data removed]",
      "text/plain": [
       "<Figure size 800x400 with 1 Axes>"
      ]
     },
     "metadata": {},
     "output_type": "display_data"
    }
   ],
   "source": [
    "plt.figure(figsize=(8, 4))  #Me gusta que todos los graficos esten con el mismo tamaño en la medida de lo posible\n",
    "sns.boxplot(data=df, x='Plan', y='Edad')\n",
    "plt.title('Distribución de Edad según el Plan de Internet')\n",
    "plt.xlabel('Plan')\n",
    "plt.ylabel('Edad del Cliente')\n",
    "plt.show()"
   ]
  },
  {
   "cell_type": "markdown",
   "id": "11965b34",
   "metadata": {},
   "source": [
    "# Interpretacion de Resultados"
   ]
  },
  {
   "cell_type": "markdown",
   "id": "94db535a",
   "metadata": {},
   "source": [
    "Gracias al analisis estadistico realizado, se pueden sacar algunas conclusiones relevantes como, el promedio de reclamos con respecto al servicio es de 1 y con un maximo 3, se observa que los clientes que han presentado mas de un reclamo suelen ser morosos. \n",
    "\n",
    "Respecto al consumo de gigabytes, el promedio normal de consumo es de 23gb y se destaca que los clientes que tienen un consumo menor o igual a 10gb suelen presentar al menos un reclamo al servicio de internet, sin embargo, el plan y estado de cuenta no reflejan una relacion. Aun asi, se puede destacar que, los clientes morosos presentan un consumo alrededor de 10gb, y por lo general han presentado dos o mas reclamos.\n",
    "\n",
    "Por otro lado, se puede encontrar una relacion entre la edad de los clientes y el plan de internet contratado, los adultos que rondan los 20 años suelen contratar el plan mas basico y las personas alrededor de los 40 prefieren un plan premium. Esto sugiere que, los clientes mas jovenes suelen contratar un plan mas basico y economico, mientras que los clientes de edad mayor prefieren un servicio de mayor rendimiento."
   ]
  }
 ],
 "metadata": {
  "kernelspec": {
   "display_name": "Python 3",
   "language": "python",
   "name": "python3"
  },
  "language_info": {
   "codemirror_mode": {
    "name": "ipython",
    "version": 3
   },
   "file_extension": ".py",
   "mimetype": "text/x-python",
   "name": "python",
   "nbconvert_exporter": "python",
   "pygments_lexer": "ipython3",
   "version": "3.12.0"
  }
 },
 "nbformat": 4,
 "nbformat_minor": 5
}
